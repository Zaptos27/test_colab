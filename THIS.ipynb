{
 "cells": [
  {
   "attachments": {},
   "cell_type": "markdown",
   "metadata": {},
   "source": [
    "Run this for setup"
   ]
  },
  {
   "cell_type": "code",
   "execution_count": null,
   "metadata": {},
   "outputs": [],
   "source": [
    "from google.colab import drive\n",
    "drive.mount('/content/drive')\n",
    "\n",
    "!rm -rf test_colab\n",
    "!git clone https://github.com/Zaptos27/test_colab.git\n",
    "\n",
    "!chmod +x test_colab/bash_scripts/save_to_drive.sh\n",
    "!./test_colab/bash_scripts/save_to_drive.sh"
   ]
  },
  {
   "cell_type": "code",
   "execution_count": null,
   "metadata": {},
   "outputs": [],
   "source": [
    "!cd test_colab && git pull\n",
    "!. test_colab/bash_scripts/save_to_drive.sh"
   ]
  }
 ],
 "metadata": {
  "language_info": {
   "name": "python"
  },
  "orig_nbformat": 4
 },
 "nbformat": 4,
 "nbformat_minor": 2
}
