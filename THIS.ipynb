{
 "cells": [
  {
   "attachments": {},
   "cell_type": "markdown",
   "metadata": {},
   "source": [
    "Run this for setup"
   ]
  },
  {
   "cell_type": "code",
   "execution_count": null,
   "metadata": {},
   "outputs": [],
   "source": [
    "!git clone https://github.com/Zaptos27/test_colab.git\n",
    "\n",
    "!chmod +x test_colab/bash_scripts/mkdir.sh\n",
    "!chmod +x test_colab/bash_scripts/copy.sh\n",
    "!chmod +x test_colab/bash_scripts/update.sh\n",
    "\n",
    "!./test_colab/bash_scripts/mkdir.sh\n",
    "!./test_colab/bash_scripts/copy.sh\n",
    "!./test_colab/bash_scripts/update.sh"
   ]
  },
  {
   "attachments": {},
   "cell_type": "markdown",
   "metadata": {},
   "source": [
    "Update will delete everything in working source"
   ]
  },
  {
   "cell_type": "code",
   "execution_count": null,
   "metadata": {},
   "outputs": [],
   "source": [
    "!chmod +x test_colab/bash_scripts/update.sh\n",
    "!./test_colab/bash_scripts/update.sh"
   ]
  },
  {
   "attachments": {},
   "cell_type": "markdown",
   "metadata": {},
   "source": [
    "Save to drive"
   ]
  },
  {
   "attachments": {},
   "cell_type": "markdown",
   "metadata": {},
   "source": [
    "from google.colab import drive\n",
    "drive.mount('/content/drive')\n",
    "!chmod +x test_colab/bash_scripts/save_to_drive.sh\n",
    "!./test_colab/bash_scripts/update.sh"
   ]
  }
 ],
 "metadata": {
  "language_info": {
   "name": "python"
  },
  "orig_nbformat": 4
 },
 "nbformat": 4,
 "nbformat_minor": 2
}
