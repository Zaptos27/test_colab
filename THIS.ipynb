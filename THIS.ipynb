{
 "cells": [
  {
   "attachments": {},
   "cell_type": "markdown",
   "metadata": {},
   "source": [
    "Run this for setup"
   ]
  },
  {
   "cell_type": "code",
   "execution_count": null,
   "metadata": {},
   "outputs": [],
   "source": [
    "!cd /\n",
    "!git clone https://github.com/Zaptos27/test_colab.git\n",
    "!cd /test_colab\n",
    "\n",
    "\n",
    "!chmod +x bash_scripts/mkdir.sh\n",
    "!chmod +x bash_scripts/update.sh\n",
    "!chmod +x bash_scripts/copy.sh\n",
    "\n",
    "!cd bash_scripts\n",
    "!./mkdir.sh\n",
    "!./copy.sh\n",
    "!./update.sh\n",
    "\n",
    "!cd /"
   ]
  }
 ],
 "metadata": {
  "language_info": {
   "name": "python"
  },
  "orig_nbformat": 4
 },
 "nbformat": 4,
 "nbformat_minor": 2
}
